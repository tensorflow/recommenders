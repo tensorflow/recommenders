{
 "cells": [
  {
   "cell_type": "markdown",
   "metadata": {
    "colab_type": "text",
    "id": "kCeYA79m1DEX"
   },
   "source": [
    "# Multi-task recommenders\n",
    "\n",
    "\n",
    "In the [basic retrieval tutorial](https://github.com/tensorflow/recommenders/blob/main/docs/examples/movielens.ipynb) we built a retrieval system using movie watches as positive interaction signals.\n",
    "\n",
    "In many applications, however, there are multiple rich sources of feedback to draw upon. For example, an e-commerce site may record user visits to product pages (abundant, but relatively low signal), image clicks, adding to cart, and, finally, purchases. It may even record post-purchase signals such as reviews and returns.\n",
    "\n",
    "Integrating all these different forms of feedback is critical to building systems that users love to use, and that do not optimize for any one metric at the expense of overall performance.\n",
    "\n",
    "In this tutorial, we are going to build a multi-objective recommender for Movielens, using both implicit (movie watches) and explicit signals (ratings)."
   ]
  },
  {
   "cell_type": "markdown",
   "metadata": {
    "colab_type": "text",
    "id": "ZwrcZeK7x7xI"
   },
   "source": [
    "## Imports\n",
    "\n",
    "\n",
    "Let's first get our imports out of the way.\n"
   ]
  },
  {
   "cell_type": "code",
   "execution_count": 0,
   "metadata": {
    "colab": {},
    "colab_type": "code",
    "id": "SZGYDaF-m5wZ"
   },
   "outputs": [],
   "source": [
    "import os\n",
    "import pprint\n",
    "import tempfile\n",
    "\n",
    "from typing import Dict, Text\n",
    "\n",
    "import numpy as np\n",
    "import tensorflow as tf\n",
    "import tensorflow_datasets as tfds"
   ]
  },
  {
   "cell_type": "code",
   "execution_count": 0,
   "metadata": {
    "colab": {},
    "colab_type": "code",
    "id": "BxQ_hy7xPH3N"
   },
   "outputs": [],
   "source": [
    "import tensorflow_recommenders as tfrs"
   ]
  },
  {
   "cell_type": "markdown",
   "metadata": {
    "colab_type": "text",
    "id": "5PAqjR4a1RR4"
   },
   "source": [
    "## Preparing the dataset\n",
    "\n",
    "We're going to use the Movielens 100K dataset."
   ]
  },
  {
   "cell_type": "code",
   "execution_count": 0,
   "metadata": {
    "colab": {},
    "colab_type": "code",
    "id": "-ySWtibjm_6a"
   },
   "outputs": [],
   "source": [
    "ratings = tfds.load('movie_lens/100k-ratings', split=\"train\")\n",
    "movies = tfds.load('movie_lens/100k-movies', split=\"train\")\n",
    "\n",
    "# Select the basic features.\n",
    "ratings = ratings.map(lambda x: {\n",
    "    \"movie_id\": x[\"movie_id\"],\n",
    "    \"user_id\": x[\"user_id\"],\n",
    "    \"user_rating\": x[\"user_rating\"],\n",
    "})\n",
    "movies = movies.map(lambda x: {\n",
    "    \"movie_id\": x[\"movie_id\"],\n",
    "})"
   ]
  },
  {
   "cell_type": "markdown",
   "metadata": {
    "colab_type": "text",
    "id": "JRHorm8W1yf3"
   },
   "source": [
    "And repeat our preparations for building vocabularies and splitting the data into a train and a test set:"
   ]
  },
  {
   "cell_type": "code",
   "execution_count": 0,
   "metadata": {
    "colab": {},
    "colab_type": "code",
    "id": "rS0eDfkjnjJL"
   },
   "outputs": [],
   "source": [
    "# Randomly shuffle data and split between train and test.\n",
    "tf.random.set_seed(42)\n",
    "shuffled = ratings.shuffle(100_000, seed=42, reshuffle_each_iteration=False)\n",
    "\n",
    "train = shuffled.take(80_000)\n",
    "test = shuffled.skip(80_000).take(20_000)\n",
    "\n",
    "movie_ids = movies.batch(100_000).map(lambda x: x[\"movie_id\"])\n",
    "user_ids = ratings.batch(100_000).map(lambda x: x[\"user_id\"])\n",
    "\n",
    "unique_movie_ids = np.unique(np.concatenate(list(movie_ids)))\n",
    "unique_user_ids = np.unique(np.concatenate(list(user_ids)))"
   ]
  },
  {
   "cell_type": "markdown",
   "metadata": {
    "colab_type": "text",
    "id": "eCi-seR86qqa"
   },
   "source": [
    "## A multi-task model\n",
    "\n",
    "There are two critical parts to multi-task recommenders:\n",
    "\n",
    "1. They optimize for two or more objectives, and so have two or more losses.\n",
    "2. They share variables between the tasks, allowing for transfer learning.\n",
    "\n",
    "In this tutorial, we will define our models as before, but instead of having  a single task, we will have two tasks: one that predicts ratings, and one that predicts movie watches."
   ]
  },
  {
   "cell_type": "markdown",
   "metadata": {
    "colab_type": "text",
    "id": "AXHrk_SLzKCM"
   },
   "source": [
    "The user and movie models are as before:"
   ]
  },
  {
   "cell_type": "code",
   "execution_count": 0,
   "metadata": {
    "colab": {},
    "colab_type": "code",
    "id": "uoRWPZ1RzPGB"
   },
   "outputs": [],
   "source": [
    "# We wrap these in functions this time so that we can run multiple independent\n",
    "# models later.\n",
    "class UserModel(tf.keras.Model):\n",
    "\n",
    "  def __init__(self, embedding_dimension=32):\n",
    "    super(UserModel, self).__init__()\n",
    "    # The model itself is a single embedding layer.\n",
    "    # However, we could expand this to an arbitrarily complicated Keras model, as long\n",
    "    # as the output is an vector `embedding_dimension` wide.\n",
    "    user_features = [tf.feature_column.embedding_column(\n",
    "        tf.feature_column.categorical_column_with_vocabulary_list(\n",
    "            \"user_id\", unique_user_ids,\n",
    "        ),\n",
    "        embedding_dimension,\n",
    "    )]\n",
    "    self.embedding_layer = tf.keras.layers.DenseFeatures(user_features, name=\"user_embedding\")\n",
    "\n",
    "  def call(self, inputs):\n",
    "    return self.embedding_layer(inputs)\n",
    "\n",
    "class MovieModel(tf.keras.Model):\n",
    "\n",
    "  def __init__(self, embedding_dimension=32):\n",
    "    super(MovieModel, self).__init__()\n",
    "    movie_features = [tf.feature_column.embedding_column(\n",
    "        tf.feature_column.categorical_column_with_vocabulary_list(\n",
    "            \"movie_id\", unique_movie_ids,\n",
    "        ),\n",
    "        embedding_dimension,\n",
    "    )]\n",
    "    self.embedding_layer = tf.keras.layers.DenseFeatures(movie_features, name=\"movie_embedding\")\n",
    "  \n",
    "  def call(self, inputs):\n",
    "    return self.embedding_layer(inputs)"
   ]
  },
  {
   "cell_type": "markdown",
   "metadata": {
    "colab_type": "text",
    "id": "cWCwkE5z8QBe"
   },
   "source": [
    "However, now we will have two tasks. The first is the rating task:"
   ]
  },
  {
   "cell_type": "code",
   "execution_count": 0,
   "metadata": {
    "colab": {
     "base_uri": "https://localhost:8080/",
     "height": 34
    },
    "colab_type": "code",
    "id": "gg-mw6UNzZvs"
   },
   "outputs": [
    {
     "data": {
      "text/plain": [
       "<tensorflow_recommenders.tasks.ranking.RankingTask at 0x7fcc323c5d68>"
      ]
     },
     "execution_count": 6,
     "metadata": {
      "tags": []
     },
     "output_type": "execute_result"
    }
   ],
   "source": [
    "tfrs.tasks.RankingTask(\n",
    "    loss=tf.keras.losses.MeanSquaredError(),\n",
    "    metrics=[tf.keras.metrics.RootMeanSquaredError()],\n",
    ")"
   ]
  },
  {
   "cell_type": "markdown",
   "metadata": {
    "colab_type": "text",
    "id": "xrgQIXEm8UWf"
   },
   "source": [
    "Its goal is to predict the ratings as accurately as possible.\n",
    "\n",
    "The second is the retrieval task:"
   ]
  },
  {
   "cell_type": "code",
   "execution_count": 0,
   "metadata": {
    "colab": {
     "base_uri": "https://localhost:8080/",
     "height": 34
    },
    "colab_type": "code",
    "id": "mT-nT6Cz8W8Z"
   },
   "outputs": [
    {
     "data": {
      "text/plain": [
       "<tensorflow_recommenders.tasks.retrieval.RetrievalTask at 0x7fcc2464ba90>"
      ]
     },
     "execution_count": 7,
     "metadata": {
      "tags": []
     },
     "output_type": "execute_result"
    }
   ],
   "source": [
    "tfrs.tasks.RetrievalTask(\n",
    "    corpus_metrics=tfrs.metrics.FactorizedTopK(\n",
    "        candidates=movies.batch(128)\n",
    "    )\n",
    ")"
   ]
  },
  {
   "cell_type": "markdown",
   "metadata": {
    "colab_type": "text",
    "id": "SCNrv7_gakmF"
   },
   "source": [
    "As before, this task's goal is to predict which movies the user will or will not watch."
   ]
  },
  {
   "cell_type": "markdown",
   "metadata": {
    "colab_type": "text",
    "id": "DSWw3xuq8mGh"
   },
   "source": [
    "### Putting it together\n",
    "\n",
    "We put it all together in a model class.\n",
    "\n",
    "The new component here is that - since we have two tasks and two losses - we need to decide on how important each loss is. We can do this by giving each of the losses a weight, and treating these weights as hyperparameters. If we assign a large loss weight to the rating task, our model is going to focus on predicting ratings (but still use some information from the retrieval task); if we assign a large loss weight to the retrieval task, it will focus on retrieval instead."
   ]
  },
  {
   "cell_type": "code",
   "execution_count": 0,
   "metadata": {
    "colab": {},
    "colab_type": "code",
    "id": "YFSkOAMgzU0K"
   },
   "outputs": [],
   "source": [
    "class MovielensModel(tfrs.models.Model):\n",
    "\n",
    "  def __init__(self, rating_weight: float, retrieval_weight: float) -> None:\n",
    "    # We take the loss weights in the constructor: this allows us to instantiate\n",
    "    # several model objects with different loss weights.\n",
    "\n",
    "    super().__init__()\n",
    "\n",
    "    # Embeddings as before.\n",
    "    self.movie_model: tf.keras.layers.Layer = MovieModel()\n",
    "    self.user_model: tf.keras.layers.Layer = UserModel()\n",
    "\n",
    "    # A small model to take in user and movie embeddings and predict ratings.\n",
    "    # We can make this as complicated as we want as long as we output a scalar\n",
    "    # as our prediction.\n",
    "    self.rating_model = tf.keras.Sequential([\n",
    "        tf.keras.layers.Dense(256, activation=\"relu\"),\n",
    "        tf.keras.layers.Dense(128, activation=\"relu\"),\n",
    "        tf.keras.layers.Dense(1),\n",
    "    ])\n",
    "\n",
    "    # The tasks.\n",
    "    self.rating_task: tf.keras.layers.Layer = tfrs.tasks.RankingTask(\n",
    "        loss=tf.keras.losses.MeanSquaredError(),\n",
    "        metrics=[tf.keras.metrics.RootMeanSquaredError()],\n",
    "    )\n",
    "    self.retrieval_task: tf.keras.layers.Layer = tfrs.tasks.RetrievalTask(\n",
    "        corpus_metrics=tfrs.metrics.FactorizedTopK(\n",
    "            candidates=movies.batch(128).map(self.movie_model)\n",
    "        )\n",
    "    )\n",
    "\n",
    "    # The loss weights.\n",
    "    self.rating_weight = rating_weight\n",
    "    self.retrieval_weight = retrieval_weight\n",
    "\n",
    "  def call(self, features: Dict[Text, tf.Tensor]) -> tf.Tensor:\n",
    "    # We pick out the user features and pass them into the user model.\n",
    "    user_embeddings = self.user_model({\"user_id\": features[\"user_id\"]})\n",
    "    # And pick out the movie features and pass them into the movie model,\n",
    "    # getting embeddings back.\n",
    "    movie_embeddings = self.movie_model(\n",
    "        {\"movie_id\": features[\"movie_id\"]}\n",
    "    )\n",
    "    \n",
    "    return (\n",
    "        user_embeddings,\n",
    "        movie_embeddings,\n",
    "        # We apply the multi-layered rating model to a concatentation of\n",
    "        # user and movie embeddings.\n",
    "        self.rating_model(\n",
    "            tf.concat([user_embeddings, movie_embeddings], axis=1)\n",
    "        ),\n",
    "    )\n",
    "\n",
    "  def compute_loss(self, features: Dict[Text, tf.Tensor], training=False) -> tf.Tensor:\n",
    "\n",
    "    user_embeddings, movie_embeddings, rating_predictions = self(features)\n",
    "\n",
    "    # We compute the loss for each task.\n",
    "    rating_loss = self.rating_task(\n",
    "        labels=features[\"user_rating\"],\n",
    "        predictions=rating_predictions,\n",
    "    )\n",
    "    retrieval_loss = self.retrieval_task(user_embeddings, movie_embeddings)\n",
    "\n",
    "    # And combine them using the loss weights.\n",
    "    return (self.rating_weight * rating_loss\n",
    "            + self.retrieval_weight * retrieval_loss)"
   ]
  },
  {
   "cell_type": "markdown",
   "metadata": {
    "colab_type": "text",
    "id": "ngvn-c0b8lc2"
   },
   "source": [
    "### Rating-specialized model\n",
    "\n",
    "Depending on the weights we assign, the model will encode a different balance of the tasks. Let's start with a model that only considers ratings."
   ]
  },
  {
   "cell_type": "code",
   "execution_count": 0,
   "metadata": {
    "colab": {
     "base_uri": "https://localhost:8080/",
     "height": 34
    },
    "colab_type": "code",
    "id": "NNfB6rYL0VrS"
   },
   "outputs": [
    {
     "name": "stderr",
     "output_type": "stream",
     "text": [
      "/usr/local/lib/python3.6/dist-packages/ipykernel_launcher.py:29: UserWarning: Creating resources inside a function passed to Dataset.map() is not supported. Create each resource outside the function, and capture it inside the function to use it.\n"
     ]
    }
   ],
   "source": [
    "model = MovielensModel(rating_weight=1.0, retrieval_weight=0.0)\n",
    "model.compile(optimizer=tf.keras.optimizers.Adagrad(0.1))"
   ]
  },
  {
   "cell_type": "code",
   "execution_count": 0,
   "metadata": {
    "colab": {},
    "colab_type": "code",
    "id": "I6kjfF1j0iZR"
   },
   "outputs": [],
   "source": [
    "cached_train = train.shuffle(100_000).batch(8192).cache()\n",
    "cached_test = test.batch(4096).cache()"
   ]
  },
  {
   "cell_type": "code",
   "execution_count": 0,
   "metadata": {
    "colab": {
     "base_uri": "https://localhost:8080/",
     "height": 292
    },
    "colab_type": "code",
    "id": "6NWadH1q0c_T"
   },
   "outputs": [
    {
     "name": "stdout",
     "output_type": "stream",
     "text": [
      "Epoch 1/3\n",
      "10/10 [==============================] - 20s 2s/step - root_mean_squared_error: 2.8151 - factorized_top_k_1: 0.0189 - factorized_top_k_1/top_1_categorical_accuracy: 2.1250e-04 - factorized_top_k_1/top_5_categorical_accuracy: 0.0023 - factorized_top_k_1/top_10_categorical_accuracy: 0.0053 - factorized_top_k_1/top_50_categorical_accuracy: 0.0284 - factorized_top_k_1/top_100_categorical_accuracy: 0.0581 - loss: 7.1756\n",
      "Epoch 2/3\n",
      "10/10 [==============================] - 20s 2s/step - root_mean_squared_error: 1.1245 - factorized_top_k_1: 0.0189 - factorized_top_k_1/top_1_categorical_accuracy: 2.1250e-04 - factorized_top_k_1/top_5_categorical_accuracy: 0.0024 - factorized_top_k_1/top_10_categorical_accuracy: 0.0054 - factorized_top_k_1/top_50_categorical_accuracy: 0.0284 - factorized_top_k_1/top_100_categorical_accuracy: 0.0583 - loss: 1.2576\n",
      "Epoch 3/3\n",
      "10/10 [==============================] - 20s 2s/step - root_mean_squared_error: 1.1133 - factorized_top_k_1: 0.0190 - factorized_top_k_1/top_1_categorical_accuracy: 2.6250e-04 - factorized_top_k_1/top_5_categorical_accuracy: 0.0024 - factorized_top_k_1/top_10_categorical_accuracy: 0.0054 - factorized_top_k_1/top_50_categorical_accuracy: 0.0287 - factorized_top_k_1/top_100_categorical_accuracy: 0.0583 - loss: 1.2337\n",
      "5/5 [==============================] - 3s 628ms/step - root_mean_squared_error: 1.1085 - factorized_top_k_1: 0.0190 - factorized_top_k_1/top_1_categorical_accuracy: 2.5000e-04 - factorized_top_k_1/top_5_categorical_accuracy: 0.0026 - factorized_top_k_1/top_10_categorical_accuracy: 0.0063 - factorized_top_k_1/top_50_categorical_accuracy: 0.0281 - factorized_top_k_1/top_100_categorical_accuracy: 0.0578 - loss: 1.2236\n"
     ]
    },
    {
     "data": {
      "text/plain": [
       "{'factorized_top_k_1': array([0.00025, 0.0026 , 0.00625, 0.0281 , 0.0578 ], dtype=float32),\n",
       " 'factorized_top_k_1/top_100_categorical_accuracy': 0.05779999867081642,\n",
       " 'factorized_top_k_1/top_10_categorical_accuracy': 0.0062500000931322575,\n",
       " 'factorized_top_k_1/top_1_categorical_accuracy': 0.0002500000118743628,\n",
       " 'factorized_top_k_1/top_50_categorical_accuracy': 0.02810000069439411,\n",
       " 'factorized_top_k_1/top_5_categorical_accuracy': 0.0026000000070780516,\n",
       " 'loss': 1.2009674310684204,\n",
       " 'root_mean_squared_error': 1.108499526977539}"
      ]
     },
     "execution_count": 11,
     "metadata": {
      "tags": []
     },
     "output_type": "execute_result"
    }
   ],
   "source": [
    "model.fit(cached_train, epochs=3)\n",
    "model.evaluate(cached_test, return_dict=True)"
   ]
  },
  {
   "cell_type": "markdown",
   "metadata": {
    "colab_type": "text",
    "id": "lENViv04-i0T"
   },
   "source": [
    "The model does OK on predicting ratings (with an RMSE of around 1.11), but performs poorly at predicting which movies will be watched or not: its accuracy at 100 is almost 4 times worse than a model trained solely to predict watches."
   ]
  },
  {
   "cell_type": "markdown",
   "metadata": {
    "colab_type": "text",
    "id": "yPYd9LtE-4Fm"
   },
   "source": [
    "### Retrieval-specialized model\n",
    "\n",
    "Let's now try a model that focuses on retrieval only."
   ]
  },
  {
   "cell_type": "code",
   "execution_count": 0,
   "metadata": {
    "colab": {
     "base_uri": "https://localhost:8080/",
     "height": 34
    },
    "colab_type": "code",
    "id": "BfnkGd2G--Qt"
   },
   "outputs": [
    {
     "name": "stderr",
     "output_type": "stream",
     "text": [
      "/usr/local/lib/python3.6/dist-packages/ipykernel_launcher.py:29: UserWarning: Creating resources inside a function passed to Dataset.map() is not supported. Create each resource outside the function, and capture it inside the function to use it.\n"
     ]
    }
   ],
   "source": [
    "model = MovielensModel(rating_weight=0.0, retrieval_weight=1.0)\n",
    "model.compile(optimizer=tf.keras.optimizers.Adagrad(0.1))"
   ]
  },
  {
   "cell_type": "code",
   "execution_count": 0,
   "metadata": {
    "colab": {
     "base_uri": "https://localhost:8080/",
     "height": 292
    },
    "colab_type": "code",
    "id": "JCCBdM7U_B11"
   },
   "outputs": [
    {
     "name": "stdout",
     "output_type": "stream",
     "text": [
      "Epoch 1/3\n",
      "10/10 [==============================] - 20s 2s/step - root_mean_squared_error: 3.7399 - factorized_top_k_2: 0.0248 - factorized_top_k_2/top_1_categorical_accuracy: 1.7500e-04 - factorized_top_k_2/top_5_categorical_accuracy: 0.0026 - factorized_top_k_2/top_10_categorical_accuracy: 0.0062 - factorized_top_k_2/top_50_categorical_accuracy: 0.0380 - factorized_top_k_2/top_100_categorical_accuracy: 0.0772 - loss: 70229.4489\n",
      "Epoch 2/3\n",
      "10/10 [==============================] - 20s 2s/step - root_mean_squared_error: 3.7470 - factorized_top_k_2: 0.0979 - factorized_top_k_2/top_1_categorical_accuracy: 0.0012 - factorized_top_k_2/top_5_categorical_accuracy: 0.0155 - factorized_top_k_2/top_10_categorical_accuracy: 0.0340 - factorized_top_k_2/top_50_categorical_accuracy: 0.1602 - factorized_top_k_2/top_100_categorical_accuracy: 0.2787 - loss: 67823.9311\n",
      "Epoch 3/3\n",
      "10/10 [==============================] - 20s 2s/step - root_mean_squared_error: 3.7538 - factorized_top_k_2: 0.1163 - factorized_top_k_2/top_1_categorical_accuracy: 0.0021 - factorized_top_k_2/top_5_categorical_accuracy: 0.0228 - factorized_top_k_2/top_10_categorical_accuracy: 0.0460 - factorized_top_k_2/top_50_categorical_accuracy: 0.1919 - factorized_top_k_2/top_100_categorical_accuracy: 0.3188 - loss: 66386.3928\n",
      "5/5 [==============================] - 3s 694ms/step - root_mean_squared_error: 3.7586 - factorized_top_k_2: 0.0640 - factorized_top_k_2/top_1_categorical_accuracy: 5.0000e-04 - factorized_top_k_2/top_5_categorical_accuracy: 0.0054 - factorized_top_k_2/top_10_categorical_accuracy: 0.0144 - factorized_top_k_2/top_50_categorical_accuracy: 0.0990 - factorized_top_k_2/top_100_categorical_accuracy: 0.2007 - loss: 31386.0449\n"
     ]
    },
    {
     "data": {
      "text/plain": [
       "{'factorized_top_k_2': array([0.0005 , 0.00535, 0.0144 , 0.099  , 0.2007 ], dtype=float32),\n",
       " 'factorized_top_k_2/top_100_categorical_accuracy': 0.20069999992847443,\n",
       " 'factorized_top_k_2/top_10_categorical_accuracy': 0.014399999752640724,\n",
       " 'factorized_top_k_2/top_1_categorical_accuracy': 0.0005000000237487257,\n",
       " 'factorized_top_k_2/top_50_categorical_accuracy': 0.0989999994635582,\n",
       " 'factorized_top_k_2/top_5_categorical_accuracy': 0.005350000225007534,\n",
       " 'loss': 28544.43359375,\n",
       " 'root_mean_squared_error': 3.758612871170044}"
      ]
     },
     "execution_count": 13,
     "metadata": {
      "tags": []
     },
     "output_type": "execute_result"
    }
   ],
   "source": [
    "model.fit(cached_train, epochs=3)\n",
    "model.evaluate(cached_test, return_dict=True)"
   ]
  },
  {
   "cell_type": "markdown",
   "metadata": {
    "colab_type": "text",
    "id": "YjM7j7eY_jPh"
   },
   "source": [
    "We get the opposite result: a model that does well on retrieval, but poorly on predicting ratings."
   ]
  },
  {
   "cell_type": "markdown",
   "metadata": {
    "colab_type": "text",
    "id": "hOFwjUus_pLU"
   },
   "source": [
    "### Equally-weighted model\n",
    "\n",
    "Let's now train a model that weighs both tasks equally."
   ]
  },
  {
   "cell_type": "code",
   "execution_count": 0,
   "metadata": {
    "colab": {
     "base_uri": "https://localhost:8080/",
     "height": 34
    },
    "colab_type": "code",
    "id": "7xyDbNMf_t8a"
   },
   "outputs": [
    {
     "name": "stderr",
     "output_type": "stream",
     "text": [
      "/usr/local/lib/python3.6/dist-packages/ipykernel_launcher.py:29: UserWarning: Creating resources inside a function passed to Dataset.map() is not supported. Create each resource outside the function, and capture it inside the function to use it.\n"
     ]
    }
   ],
   "source": [
    "model = MovielensModel(rating_weight=1.0, retrieval_weight=1.0)\n",
    "model.compile(optimizer=tf.keras.optimizers.Adagrad(0.1))"
   ]
  },
  {
   "cell_type": "code",
   "execution_count": 0,
   "metadata": {
    "colab": {
     "base_uri": "https://localhost:8080/",
     "height": 292
    },
    "colab_type": "code",
    "id": "2pZmM_ub_uEO"
   },
   "outputs": [
    {
     "name": "stdout",
     "output_type": "stream",
     "text": [
      "Epoch 1/3\n",
      "10/10 [==============================] - 20s 2s/step - root_mean_squared_error: 2.7100 - factorized_top_k_3: 0.0267 - factorized_top_k_3/top_1_categorical_accuracy: 2.7500e-04 - factorized_top_k_3/top_5_categorical_accuracy: 0.0031 - factorized_top_k_3/top_10_categorical_accuracy: 0.0067 - factorized_top_k_3/top_50_categorical_accuracy: 0.0408 - factorized_top_k_3/top_100_categorical_accuracy: 0.0826 - loss: 70187.2571\n",
      "Epoch 2/3\n",
      "10/10 [==============================] - 20s 2s/step - root_mean_squared_error: 1.1583 - factorized_top_k_3: 0.0990 - factorized_top_k_3/top_1_categorical_accuracy: 9.6250e-04 - factorized_top_k_3/top_5_categorical_accuracy: 0.0158 - factorized_top_k_3/top_10_categorical_accuracy: 0.0344 - factorized_top_k_3/top_50_categorical_accuracy: 0.1614 - factorized_top_k_3/top_100_categorical_accuracy: 0.2826 - loss: 67747.3771\n",
      "Epoch 3/3\n",
      "10/10 [==============================] - 20s 2s/step - root_mean_squared_error: 1.1351 - factorized_top_k_3: 0.1166 - factorized_top_k_3/top_1_categorical_accuracy: 0.0022 - factorized_top_k_3/top_5_categorical_accuracy: 0.0227 - factorized_top_k_3/top_10_categorical_accuracy: 0.0459 - factorized_top_k_3/top_50_categorical_accuracy: 0.1922 - factorized_top_k_3/top_100_categorical_accuracy: 0.3202 - loss: 66387.5078\n",
      "5/5 [==============================] - 4s 706ms/step - root_mean_squared_error: 1.1030 - factorized_top_k_3: 0.0632 - factorized_top_k_3/top_1_categorical_accuracy: 4.5000e-04 - factorized_top_k_3/top_5_categorical_accuracy: 0.0050 - factorized_top_k_3/top_10_categorical_accuracy: 0.0118 - factorized_top_k_3/top_50_categorical_accuracy: 0.0984 - factorized_top_k_3/top_100_categorical_accuracy: 0.2005 - loss: 31402.9049\n"
     ]
    },
    {
     "data": {
      "text/plain": [
       "{'factorized_top_k_3': array([0.00045, 0.00505, 0.0118 , 0.0984 , 0.2005 ], dtype=float32),\n",
       " 'factorized_top_k_3/top_100_categorical_accuracy': 0.2004999965429306,\n",
       " 'factorized_top_k_3/top_10_categorical_accuracy': 0.011800000444054604,\n",
       " 'factorized_top_k_3/top_1_categorical_accuracy': 0.00044999999227002263,\n",
       " 'factorized_top_k_3/top_50_categorical_accuracy': 0.09839999675750732,\n",
       " 'factorized_top_k_3/top_5_categorical_accuracy': 0.005049999803304672,\n",
       " 'loss': 28558.087890625,\n",
       " 'root_mean_squared_error': 1.1030011177062988}"
      ]
     },
     "execution_count": 15,
     "metadata": {
      "tags": []
     },
     "output_type": "execute_result"
    }
   ],
   "source": [
    "model.fit(cached_train, epochs=3)\n",
    "model.evaluate(cached_test, return_dict=True)"
   ]
  },
  {
   "cell_type": "markdown",
   "metadata": {
    "colab_type": "text",
    "id": "Ni_rkOsaB3f9"
   },
   "source": [
    "The result is a model that performs almost as well as the retrieval-specialized model on retrieval tasks and performs slightly better than the rating-specialized model on rating tasks. The latter result shows the promise of transfer learning, where jointly training a model on a set of related tasks can result in a better model that training a set of separate estimators.\n",
    "\n",
    "Of course, this is not true everywhere. We can expect better results when tasks are closely related, or when we can trasnfer knowledge from a data-abundant task (such as clicks) to a related data-sparse task (such as purchases)."
   ]
  }
 ],
 "metadata": {
  "colab": {
   "collapsed_sections": [],
   "name": "multitask.ipynb",
   "toc_visible": true
  },
  "kernelspec": {
   "display_name": "Python 3",
   "name": "python3"
  }
 },
 "nbformat": 4,
 "nbformat_minor": 0
}
